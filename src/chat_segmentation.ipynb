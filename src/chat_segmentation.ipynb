{
 "cells": [
  {
   "cell_type": "code",
   "execution_count": 70,
   "id": "ea00db17",
   "metadata": {},
   "outputs": [],
   "source": [
    "import pandas as pd\n",
    "import re"
   ]
  },
  {
   "cell_type": "markdown",
   "id": "327b2db0",
   "metadata": {},
   "source": [
    "## Eksplorasi Dataset"
   ]
  },
  {
   "cell_type": "code",
   "execution_count": 71,
   "id": "b36ce6fe",
   "metadata": {},
   "outputs": [],
   "source": [
    "with open('../data/human_chat.txt', 'r', encoding='latin-1') as file:\n",
    "    lines = file.readlines()\n",
    "\n",
    "conversation_text = \"\\n\".join([line.strip() for line in lines if line.strip() != \"\"])"
   ]
  },
  {
   "cell_type": "markdown",
   "id": "f7180b3c",
   "metadata": {},
   "source": [
    "## Regex for Q&A Segmentation"
   ]
  },
  {
   "cell_type": "code",
   "execution_count": 72,
   "id": "d48c3ed2",
   "metadata": {},
   "outputs": [],
   "source": [
    "question_pattern = re.compile(\n",
    "    r\"(?i)\\b(what|where|when|why|who|how|is|are|do|does|did|can|could|will|would|should|have|has|had)\\b.*?\\?|\" \n",
    "    r\".*?\\?\", re.MULTILINE\n",
    ")"
   ]
  },
  {
   "cell_type": "code",
   "execution_count": null,
   "id": "a0a8c664",
   "metadata": {},
   "outputs": [],
   "source": [
    "def segment_conversation_qna(conversation_text):\n",
    "    segments = []\n",
    "    current_question = None\n",
    "    current_answers = []\n",
    "\n",
    "    parts = re.split(turn_split_pattern, conversation_text)\n",
    "    dialogue_turns = []\n",
    "    for i in range(1, len(parts), 2):\n",
    "        if i + 1 < len(parts):\n",
    "            utterance = parts[i+1].strip()\n",
    "            dialogue_turns.append(utterance) \n",
    "\n",
    "    for turn in dialogue_turns:\n",
    "        if question_pattern.search(turn):\n",
    "            if current_question and current_answers:\n",
    "                segments.append({'question': current_question, 'answers': current_answers})\n",
    "            current_question = turn\n",
    "            current_answers = []\n",
    "        else:\n",
    "            if current_question:\n",
    "                current_answers.append(turn)\n",
    "\n",
    "    if current_question and current_answers:\n",
    "        segments.append({'question': current_question, 'answers': current_answers})\n",
    "    elif current_question:\n",
    "        segments.append({'question': current_question, 'answers': []})\n",
    "\n",
    "    return segments"
   ]
  },
  {
   "cell_type": "code",
   "execution_count": 78,
   "id": "0a822f32",
   "metadata": {},
   "outputs": [],
   "source": [
    "segments = segment_conversation_qna(conversation_text)\n",
    "df = pd.DataFrame(segments)"
   ]
  },
  {
   "cell_type": "markdown",
   "id": "f8f9365c",
   "metadata": {},
   "source": [
    "## Analisis Statistik"
   ]
  },
  {
   "cell_type": "code",
   "execution_count": 79,
   "id": "a793f30b",
   "metadata": {},
   "outputs": [
    {
     "name": "stdout",
     "output_type": "stream",
     "text": [
      "Total Q&A pairs: 394\n",
      "count    394.000000\n",
      "mean       2.175127\n",
      "std        1.670669\n",
      "min        1.000000\n",
      "25%        1.000000\n",
      "50%        1.000000\n",
      "75%        3.000000\n",
      "max       11.000000\n",
      "Name: num_answers, dtype: float64\n"
     ]
    }
   ],
   "source": [
    "print(\"Total Q&A pairs:\", len(df))\n",
    "df['num_answers'] = df['answers'].apply(len)\n",
    "print(df['num_answers'].describe())"
   ]
  },
  {
   "cell_type": "markdown",
   "id": "cebe71e1",
   "metadata": {},
   "source": [
    "## Explanation\n",
    "\n",
    "count = 394\n",
    "→ Total number of question–answer segments.\n",
    "\n",
    "mean ≈ 2.17\n",
    "→ On average, each question has about 2.17 answers.\n",
    "\n",
    "std ≈ 1.67\n",
    "→ The number of answers per question varies; not always just one.\n",
    "\n",
    "min = 1\n",
    "→ There are questions that only received a single answer.\n",
    "\n",
    "25%, 50%, 75%\n",
    "→ Percentiles (Q1, Median, Q3): most questions were answered 1–3 times.\n",
    "\n",
    "max = 11\n",
    "→ One particular question received up to 11 answers."
   ]
  },
  {
   "cell_type": "code",
   "execution_count": 80,
   "id": "1fbd136c",
   "metadata": {},
   "outputs": [],
   "source": [
    "df.to_csv(\"../data/segmented_chat.csv\", index=False)"
   ]
  }
 ],
 "metadata": {
  "kernelspec": {
   "display_name": "py313",
   "language": "python",
   "name": "py313"
  },
  "language_info": {
   "codemirror_mode": {
    "name": "ipython",
    "version": 3
   },
   "file_extension": ".py",
   "mimetype": "text/x-python",
   "name": "python",
   "nbconvert_exporter": "python",
   "pygments_lexer": "ipython3",
   "version": "3.13.3"
  }
 },
 "nbformat": 4,
 "nbformat_minor": 5
}
